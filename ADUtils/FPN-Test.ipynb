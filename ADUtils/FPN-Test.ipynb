{
 "cells": [
  {
   "cell_type": "code",
   "execution_count": 1,
   "metadata": {},
   "outputs": [
    {
     "name": "stderr",
     "output_type": "stream",
     "text": [
      "/home/windows/anaconda3/envs/vision/lib/python3.8/site-packages/tqdm/auto.py:22: TqdmWarning: IProgress not found. Please update jupyter and ipywidgets. See https://ipywidgets.readthedocs.io/en/stable/user_install.html\n",
      "  from .autonotebook import tqdm as notebook_tqdm\n"
     ]
    }
   ],
   "source": [
    "import torch, torchvision\n",
    "from segmentation_models.segmentation_models_pytorch.decoders.fpn import model\n",
    "import segmentation_models_pytorch as smp\n",
    "#from tests import test_loaded_weights, compare_output\n",
    "%load_ext autoreload\n",
    "%autoreload 2\n",
    "#torch.backends.cudnn.deterministic = True"
   ]
  },
  {
   "cell_type": "code",
   "execution_count": 25,
   "metadata": {},
   "outputs": [],
   "source": [
    "class FPNclassifier(smp.FPN):\n",
    "    def __init__(self,backbone = 'timm-res2net50_14w_8s', n_classes=2, encoder_weights=None):\n",
    "        # https://github.com/qubvel/segmentation_models.pytorch#encoders \n",
    "        assert backbone in ['timm-res2net50_14w_8s','efficientnet-b7', 'timm-mobilenetv3_large_minimal_100',\n",
    "                            'timm-mobilenetv3_small_100']\n",
    "        activation = 'softmax' if n_classes > 2 else 'sigmoid'\n",
    "        super().__init__(backbone, in_channels=3, encoder_depth=5, decoder_merge_policy='cat', encoder_weights=encoder_weights,\n",
    "                        aux_params={'classes':n_classes, 'pooling': \"avg\", 'activation':activation})\n",
    "        \n",
    "        activation = 'softmax' if n_classes > 2 else 'sigmoid'\n",
    "        \n",
    "    def forward(self, x):\n",
    "        x = self.encoder(x)[-1]\n",
    "        class_out = torch.nn.Sequential(*list(model.classification_head.children())[:1])(x)\n",
    "        return class_out\n",
    "    \n",
    "     \n",
    "class Linknetclassifier(smp.Linknet):\n",
    "    def __init__(self,backbone = 'timm-res2net50_14w_8s', n_classes=2, encoder_weights=None):\n",
    "        # https://github.com/qubvel/segmentation_models.pytorch#encoders \n",
    "        assert backbone in ['timm-res2net50_14w_8s','efficientnet-b7', 'timm-mobilenetv3_large_minimal_100',\n",
    "                            'timm-mobilenetv3_small_100']\n",
    "        activation = 'softmax' if n_classes > 2 else 'sigmoid'\n",
    "        super().__init__(backbone, in_channels=3, encoder_depth=5, encoder_weights=encoder_weights,\n",
    "                        aux_params={'classes':n_classes, 'pooling': \"avg\", 'activation':activation})\n",
    "        \n",
    "        activation = 'softmax' if n_classes > 2 else 'sigmoid'\n",
    "        \n",
    "    def forward(self, x):\n",
    "        x = self.encoder(x)[-1]\n",
    "        class_out = self.classification_head(x)\n",
    "        return class_out"
   ]
  },
  {
   "cell_type": "code",
   "execution_count": 26,
   "metadata": {},
   "outputs": [],
   "source": [
    "model = FPNclassifier()"
   ]
  },
  {
   "cell_type": "code",
   "execution_count": 27,
   "metadata": {},
   "outputs": [
    {
     "data": {
      "text/plain": [
       "torch.Size([3, 2048, 1, 1])"
      ]
     },
     "execution_count": 27,
     "metadata": {},
     "output_type": "execute_result"
    }
   ],
   "source": [
    "x = torch.randn((3,3,1024,1024))\n",
    "model(x).size()"
   ]
  }
 ],
 "metadata": {
  "kernelspec": {
   "display_name": "vision",
   "language": "python",
   "name": "vision"
  },
  "language_info": {
   "codemirror_mode": {
    "name": "ipython",
    "version": 3
   },
   "file_extension": ".py",
   "mimetype": "text/x-python",
   "name": "python",
   "nbconvert_exporter": "python",
   "pygments_lexer": "ipython3",
   "version": "3.8.13"
  }
 },
 "nbformat": 4,
 "nbformat_minor": 4
}
